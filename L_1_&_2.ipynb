{
 "cells": [
  {
   "cell_type": "code",
   "execution_count": 1,
   "id": "6dff01e0-bdfb-4ad6-9828-46eb62e89659",
   "metadata": {},
   "outputs": [],
   "source": [
    "pi = 3.14159\n",
    "pi_approx = 22/7"
   ]
  },
  {
   "cell_type": "code",
   "execution_count": 3,
   "id": "0b604182-b592-4b73-81d7-5e72fd7ca015",
   "metadata": {},
   "outputs": [
    {
     "data": {
      "text/plain": [
       "3.142857142857143"
      ]
     },
     "execution_count": 3,
     "metadata": {},
     "output_type": "execute_result"
    }
   ],
   "source": [
    "pi_approx"
   ]
  },
  {
   "cell_type": "code",
   "execution_count": 5,
   "id": "aaa2f601-2469-4a52-831d-cea49c62b631",
   "metadata": {},
   "outputs": [],
   "source": [
    "radius = 2.2 \n",
    "area = pi*(radius**2)"
   ]
  },
  {
   "cell_type": "code",
   "execution_count": 7,
   "id": "47f0b745-ee29-484b-a714-463e2ee3f207",
   "metadata": {},
   "outputs": [
    {
     "data": {
      "text/plain": [
       "15.205295600000001"
      ]
     },
     "execution_count": 7,
     "metadata": {},
     "output_type": "execute_result"
    }
   ],
   "source": [
    "area"
   ]
  },
  {
   "cell_type": "code",
   "execution_count": 11,
   "id": "f92984b6-0b22-4d82-ad36-62706866cedb",
   "metadata": {},
   "outputs": [],
   "source": [
    "radius = radius+1"
   ]
  },
  {
   "cell_type": "code",
   "execution_count": 13,
   "id": "ab521b28-281a-4519-9834-c0bd96bc0eb2",
   "metadata": {},
   "outputs": [
    {
     "data": {
      "text/plain": [
       "15.205295600000001"
      ]
     },
     "execution_count": 13,
     "metadata": {},
     "output_type": "execute_result"
    }
   ],
   "source": [
    "area"
   ]
  },
  {
   "cell_type": "code",
   "execution_count": 15,
   "id": "38bc52b2-a104-4f31-bdec-314e41bc3bdc",
   "metadata": {},
   "outputs": [],
   "source": [
    "import spyder"
   ]
  },
  {
   "cell_type": "code",
   "execution_count": 17,
   "id": "bef9a4f4-aea9-40f8-9699-5c21ea23e8b6",
   "metadata": {},
   "outputs": [],
   "source": [
    "this_is_super_long_oh_so_long = 4.13"
   ]
  },
  {
   "cell_type": "code",
   "execution_count": 19,
   "id": "7d3f9b89-9685-4a0d-ad38-7218d16a7762",
   "metadata": {},
   "outputs": [
    {
     "name": "stdout",
     "output_type": "stream",
     "text": [
      "hello thereandi\n"
     ]
    }
   ],
   "source": [
    "#LECTURE 2\n",
    "#STRINGS \n",
    "hi = \"hello there\"\n",
    "name = \"andi\"\n",
    "greet = hi + name\n",
    "print(greet) "
   ]
  },
  {
   "cell_type": "code",
   "execution_count": 21,
   "id": "c1ab65f1-6a0d-4a3f-a63d-746d5e9a289d",
   "metadata": {},
   "outputs": [
    {
     "name": "stdout",
     "output_type": "stream",
     "text": [
      "hello there andi\n"
     ]
    }
   ],
   "source": [
    "#to add space\n",
    "greeting = hi + \" \" + name\n",
    "print(greeting) "
   ]
  },
  {
   "cell_type": "code",
   "execution_count": 23,
   "id": "5f1c3dae-a319-4a5b-ab37-4130ed577ee7",
   "metadata": {},
   "outputs": [
    {
     "name": "stdout",
     "output_type": "stream",
     "text": [
      "hello there andi andi andi\n"
     ]
    }
   ],
   "source": [
    "silly = hi + (\" \" + name)*3\n",
    "print(silly)"
   ]
  },
  {
   "cell_type": "code",
   "execution_count": 25,
   "id": "58184afe-2107-418d-83b7-03c1c2934134",
   "metadata": {},
   "outputs": [
    {
     "name": "stdout",
     "output_type": "stream",
     "text": [
      "1\n",
      "my fave number is 1 . x= 1\n"
     ]
    }
   ],
   "source": [
    "#output \n",
    "x = 1\n",
    "print (x) \n",
    "x_str = str(x)\n",
    "print(\"my fave number is\", x, \".\", \"x=\", x)"
   ]
  },
  {
   "cell_type": "code",
   "execution_count": 27,
   "id": "69545777-e5dd-4795-9925-7811e37ac367",
   "metadata": {},
   "outputs": [
    {
     "name": "stdout",
     "output_type": "stream",
     "text": [
      "my fave number is 1.x=1\n"
     ]
    }
   ],
   "source": [
    "print(\"my fave number is\", x_str + \".\" + \"x=\" + x_str)"
   ]
  },
  {
   "cell_type": "code",
   "execution_count": 35,
   "id": "d15740f5-f353-4d71-9d67-a6adb315b0e6",
   "metadata": {},
   "outputs": [
    {
     "name": "stdout",
     "output_type": "stream",
     "text": [
      "my fav number is 1. x=1\n"
     ]
    }
   ],
   "source": [
    "#fixed it lol - basically trying to put a sentence together \n",
    "print(\"my fav number is \" + x_str + \".\" + \" x=\" + x_str)"
   ]
  },
  {
   "cell_type": "code",
   "execution_count": 37,
   "id": "e02ee1c0-5d72-4d0e-aa2a-3359d22ae65a",
   "metadata": {},
   "outputs": [
    {
     "name": "stdin",
     "output_type": "stream",
     "text": [
      "Type anything... testing\n"
     ]
    },
    {
     "name": "stdout",
     "output_type": "stream",
     "text": [
      "testingtestingtestingtestingtesting\n"
     ]
    },
    {
     "name": "stdin",
     "output_type": "stream",
     "text": [
      "Type a number... 6\n"
     ]
    },
    {
     "name": "stdout",
     "output_type": "stream",
     "text": [
      "30\n"
     ]
    }
   ],
   "source": [
    "#input \n",
    "text = input(\"Type anything...\")\n",
    "print(5*text)\n",
    "num = int(input(\"Type a number...\"))\n",
    "print(5*num)"
   ]
  },
  {
   "cell_type": "code",
   "execution_count": 41,
   "id": "3fd0b775-97a3-4254-87c2-4be614d8b070",
   "metadata": {},
   "outputs": [
    {
     "name": "stdin",
     "output_type": "stream",
     "text": [
      "Enter a number for x:  5\n",
      "Enter a number for y:  10\n"
     ]
    },
    {
     "name": "stdout",
     "output_type": "stream",
     "text": [
      "x is smaller than y\n",
      "thanks!\n"
     ]
    }
   ],
   "source": [
    "#conditionals / branching\n",
    "x = float(input(\"Enter a number for x: \"))\n",
    "y = float(input(\"Enter a number for y: \"))\n",
    "if x == y:\n",
    "    print(\"x and y are equal\")\n",
    "    if y !=0:\n",
    "        print(\"therefore, x / y is\", x/y)\n",
    "elif x < y:\n",
    "    print(\"x is smaller than y\")\n",
    "elif x > y:\n",
    "    print(\"y is smaller than x\")\n",
    "print(\"thanks!\")"
   ]
  },
  {
   "cell_type": "code",
   "execution_count": 45,
   "id": "dd868b61-8aa1-4078-a2e4-6b108de31a73",
   "metadata": {},
   "outputs": [
    {
     "name": "stdin",
     "output_type": "stream",
     "text": [
      "Enter a number:  5\n"
     ]
    },
    {
     "name": "stdout",
     "output_type": "stream",
     "text": [
      "number is odd\n"
     ]
    }
   ],
   "source": [
    "#remainder \n",
    "num = int(input(\"Enter a number: \"))\n",
    "if num % 2 == 0:\n",
    "    print(\"number is even\") \n",
    "else:\n",
    "    print(\"number is odd\")"
   ]
  },
  {
   "cell_type": "code",
   "execution_count": 47,
   "id": "576e1fcb-7afd-4596-b793-720d62f31530",
   "metadata": {},
   "outputs": [
    {
     "name": "stdout",
     "output_type": "stream",
     "text": [
      "You're in the Lost Forest. Go left or right?\n"
     ]
    },
    {
     "name": "stdin",
     "output_type": "stream",
     "text": [
      " right\n"
     ]
    },
    {
     "name": "stdout",
     "output_type": "stream",
     "text": [
      "You're still in the Lost Forest. Go left or right?\n"
     ]
    },
    {
     "name": "stdin",
     "output_type": "stream",
     "text": [
      " right\n"
     ]
    },
    {
     "name": "stdout",
     "output_type": "stream",
     "text": [
      "You're still in the Lost Forest. Go left or right?\n"
     ]
    },
    {
     "name": "stdin",
     "output_type": "stream",
     "text": [
      " right\n"
     ]
    },
    {
     "name": "stdout",
     "output_type": "stream",
     "text": [
      "You're still in the Lost Forest. Go left or right?\n"
     ]
    },
    {
     "name": "stdin",
     "output_type": "stream",
     "text": [
      " right\n"
     ]
    },
    {
     "name": "stdout",
     "output_type": "stream",
     "text": [
      "You're still in the Lost Forest. Go left or right?\n"
     ]
    },
    {
     "name": "stdin",
     "output_type": "stream",
     "text": [
      " left\n"
     ]
    },
    {
     "name": "stdout",
     "output_type": "stream",
     "text": [
      "You've got out of the Lost Forest!\n"
     ]
    }
   ],
   "source": [
    "# Lost Forest Game Example\n",
    "print(\"You're in the Lost Forest. Go left or right?\")\n",
    "move = input()\n",
    "while move == \"right\":\n",
    "    print(\"You're still in the Lost Forest. Go left or right?\")\n",
    "    move = input()\n",
    "print(\"You've got out of the Lost Forest!\")"
   ]
  },
  {
   "cell_type": "code",
   "execution_count": 49,
   "id": "d63e316b-49c6-4bc5-ac79-deeab0799cbf",
   "metadata": {},
   "outputs": [
    {
     "name": "stdin",
     "output_type": "stream",
     "text": [
      "You are in the Lost Forest\n",
      "****************\n",
      "****************\n",
      " :)\n",
      "****************\n",
      "****************\n",
      "Go left or right?  right\n",
      "You are in the Lost Forest\n",
      "****************\n",
      "****************\n",
      " :)\n",
      "****************\n",
      "****************\n",
      "Go left or right?  right\n",
      "You are in the Lost Forest\n",
      "****************\n",
      "****************\n",
      " :(\n",
      "****************\n",
      "****************\n",
      "Go left or right?  right\n",
      "You are in the Lost Forest\n",
      "****************\n",
      "****************\n",
      " (╯°□°)╯︵ ┻━┻\n",
      "****************\n",
      "****************\n",
      "Go left or right?  left\n"
     ]
    },
    {
     "name": "stdout",
     "output_type": "stream",
     "text": [
      "\n",
      "You got out of the Lost Forest!\n",
      "\\o/\n"
     ]
    }
   ],
   "source": [
    "right_count = 0\n",
    "n = input(\"You are in the Lost Forest\\n****************\\n****************\\n :)\\n****************\\n****************\\nGo left or right? \")\n",
    "\n",
    "while n == \"right\" or n == \"Right\":\n",
    "    right_count += 1\n",
    "    face = \":)\" if right_count == 1 else \":(\" if right_count == 2 else \"(╯°□°)╯︵ ┻━┻\"\n",
    "    n = input(f\"You are in the Lost Forest\\n****************\\n****************\\n {face}\\n****************\\n****************\\nGo left or right? \")\n",
    "\n",
    "print(\"\\nYou got out of the Lost Forest!\\n\\\\o/\")\n"
   ]
  },
  {
   "cell_type": "code",
   "execution_count": 51,
   "id": "3c7445c2-0769-4c36-aab0-3408be243cb6",
   "metadata": {},
   "outputs": [
    {
     "name": "stdin",
     "output_type": "stream",
     "text": [
      "Enter an integer:  4\n"
     ]
    },
    {
     "name": "stdout",
     "output_type": "stream",
     "text": [
      "Square root of 4 is 2\n"
     ]
    }
   ],
   "source": [
    "ans = 0 \n",
    "neg_flag = False \n",
    "x = int(input(\"Enter an integer: \"))\n",
    "if x < 0:\n",
    "    neg_flag = True\n",
    "while ans**2 < x:\n",
    "    ans = ans + 1\n",
    "if ans **2 == x: \n",
    "    print(\"Square root of\" , x, \"is\", ans)\n",
    "else:\n",
    "    print(x, \"is not a perfect square\")\n",
    "    if neg_flag: \n",
    "        print(\"Hey, did u mean\", -x, \"?\")"
   ]
  },
  {
   "cell_type": "code",
   "execution_count": 53,
   "id": "69da7b50-d058-465d-8e4e-66bab8446d2e",
   "metadata": {},
   "outputs": [
    {
     "name": "stdin",
     "output_type": "stream",
     "text": [
      "Enter an integer:  698\n"
     ]
    },
    {
     "name": "stdout",
     "output_type": "stream",
     "text": [
      "698 is not a perfect square\n"
     ]
    }
   ],
   "source": [
    "ans = 0\n",
    "x = int(input(\"Enter an integer: \"))\n",
    "if x < 0:\n",
    "    # For negative numbers, calculate imaginary root\n",
    "    real_x = -x  # Convert to positive number\n",
    "    while ans**2 < real_x:\n",
    "        ans = ans + 1\n",
    "    if ans**2 == real_x:\n",
    "        print(f\"Square root of {x} is {ans}i\")\n",
    "    else:\n",
    "        print(x, \"does not have a perfect square root\")\n",
    "else:\n",
    "    # For positive numbers, calculate as before\n",
    "    while ans**2 < x:\n",
    "        ans = ans + 1\n",
    "    if ans**2 == x:\n",
    "        print(\"Square root of\", x, \"is\", ans)\n",
    "    else:\n",
    "        print(x, \"is not a perfect square\")\n",
    "        "
   ]
  },
  {
   "cell_type": "code",
   "execution_count": 1,
   "id": "36c867b2-4854-4bf2-a0ad-44766ec1a373",
   "metadata": {},
   "outputs": [
    {
     "data": {
      "text/plain": [
       "<function nt.getcwd()>"
      ]
     },
     "execution_count": 1,
     "metadata": {},
     "output_type": "execute_result"
    }
   ],
   "source": [
    "import os \n",
   ]
  },
  {
   "cell_type": "code",
   "execution_count": 3,
   "id": "da983940-cf35-4d9a-82ae-b1644ca77fa5",
   "metadata": {},
